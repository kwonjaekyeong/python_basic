{
 "cells": [
  {
   "cell_type": "markdown",
   "metadata": {},
   "source": [
    "## 파이썬 기본 문법 목록\n",
    "\n",
    "- 타입\n",
    "    - 단일 데이터 타임\n",
    "        - 수치형 : \n",
    "            - 정수(...., -1. 0, 1, 2, ...) : \n",
    "                -십진수(10, 11), 이진수(0 or 1), 8진수, 16진수\n",
    "            - 부동소수(-3.14,0.0..)\n",
    "        - 문자열(단일형으로 분류하지만, 실체는 연속형)\n",
    "            - \"hello world\", 'hello world', \"\"\"dd\"\"\", '''dd'''\n",
    "        - 블린\n",
    "            -True(1), False(0)\n",
    "    - 연속 데이터 타입 (값을 여러개를 들고 있다 )\n",
    "        - 리스트   :[], 순서(인덱스)가 있다. 값이 중복되어도 ok\n",
    "        - 딕셔너리 :{}, 순서 없다. 키와 값의 세트로 구성, 키는 중복x\n",
    "        - 튜플     :(), 순서(인덱스)가 있다. 값이 중목되어도 ok, 단순묶음, 수정불가, 추가불가\n",
    "        - 집합 : {}, 중복없음(불가, 제거)\n",
    "        === 데이터 분석\n",
    "        - 배열\n",
    "        - 시리즈\n",
    "        - 데이터 프레임\n",
    "        ===딥러닝\n",
    "        - 텐서\n",
    "- 조건문, 반복문 제어문 식\n",
    "    - 조건식 결론 => 참이냐 거짓이냐? 조건식의 결론이 조건문\n",
    "        - False 상황 : 0, 0.0, [], {}, (), None(값이 없다), 기타조건문의 결과(비교, 등등)\n",
    "    - 조건식을 가지고 상황따라 움직이는 방식 : 조건문\n",
    "        - if\n",
    "    - 반복문 : 반복작업\n",
    "        - for, while\n",
    "=> 여기까지의 지식으로 프로그램을 작성 : 절차적 프로그램\n",
    "- 함수\n",
    "    - 내장함수, 외장함수, 람다함수, 커스텀함수(사용자정의함수)\n",
    "=> 여기까지의 지식으로 프로그램을 작성 : 함수지향적 프로그램\n",
    "- 클레스\n",
    "=> 여기까지의 지식으로 프로그램을 작성 : 객체 지향적 프로그램\n",
    "- 모듈화, 모듈가져오기\n",
    "- 패키지\n",
    "- 예외처리\n"
   ]
  },
  {
   "cell_type": "code",
   "execution_count": null,
   "metadata": {},
   "outputs": [],
   "source": []
  },
  {
   "cell_type": "code",
   "execution_count": null,
   "metadata": {},
   "outputs": [],
   "source": []
  },
  {
   "cell_type": "code",
   "execution_count": null,
   "metadata": {},
   "outputs": [],
   "source": []
  },
  {
   "cell_type": "code",
   "execution_count": null,
   "metadata": {},
   "outputs": [],
   "source": []
  },
  {
   "cell_type": "code",
   "execution_count": null,
   "metadata": {},
   "outputs": [],
   "source": []
  },
  {
   "cell_type": "code",
   "execution_count": null,
   "metadata": {},
   "outputs": [],
   "source": []
  },
  {
   "cell_type": "code",
   "execution_count": null,
   "metadata": {},
   "outputs": [],
   "source": []
  }
 ],
 "metadata": {
  "kernelspec": {
   "display_name": "Python 3",
   "language": "python",
   "name": "python3"
  },
  "language_info": {
   "codemirror_mode": {
    "name": "ipython",
    "version": 3
   },
   "file_extension": ".py",
   "mimetype": "text/x-python",
   "name": "python",
   "nbconvert_exporter": "python",
   "pygments_lexer": "ipython3",
   "version": "3.7.4"
  }
 },
 "nbformat": 4,
 "nbformat_minor": 2
}
