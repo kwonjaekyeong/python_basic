{
 "cells": [
  {
   "cell_type": "markdown",
   "metadata": {},
   "source": [
    "### 흐름제어\n",
    "- 코드의 흐름을 변경하려면(분기, 반복등)\n",
    "- 조건을 체크 -> 참, 거짓에 의해(판정) 흐름을 변경\n",
    "- 판정 => 결론은 블린(ture/flase)\n",
    "- 판정이 작성된 코드를 조건식\n",
    "- 조건문, 반복문 제어문 식\n",
    "    - 조건식 결론 => 참이냐 거짓이냐? 조건식의 결론이 조건문\n",
    "     - False 상황 : 0, 0.0, [], {}, (), None(값이 없다), 기타조건문의 결과(비교, 등등)\n",
    "\n",
    "- 조건식을 가지고 상황따라 움직이는 방식 : 조건문\n",
    "    - if\n",
    "- 반복문 : 반복작업\n",
    "    - for, while => 여기까지의 지식으로 프로그램을 작성 : 절차적 프로그램"
   ]
  },
  {
   "cell_type": "code",
   "execution_count": 1,
   "metadata": {},
   "outputs": [],
   "source": [
    "# 요구사항에서 조건 상황이 몇개인지 체크하여 구현\n",
    "# if\n",
    "# if~ elif~elses\n",
    "# if~else\n",
    "# if~elif\n",
    "# if~elif~elif..."
   ]
  },
  {
   "cell_type": "code",
   "execution_count": 2,
   "metadata": {},
   "outputs": [],
   "source": [
    "# 커피값을 입력받아서 1500원 이상이면 거스름돈을 줘라\n",
    "# 내용은 \"거스름돈(받은 금액-1500)은 xx원 입니다.\"\""
   ]
  },
  {
   "cell_type": "code",
   "execution_count": 3,
   "metadata": {},
   "outputs": [
    {
     "name": "stdout",
     "output_type": "stream",
     "text": [
      "커피값을 주세요1600\n"
     ]
    },
    {
     "data": {
      "text/plain": [
       "(1600, int)"
      ]
     },
     "execution_count": 3,
     "metadata": {},
     "output_type": "execute_result"
    }
   ],
   "source": [
    "# 1. 커피값을 입력받아서 (정수값 수치로 잘 넣는다고 전제)\n",
    "# 값의 유효성을 체크하지 않겠다\n",
    "coffee_price = int(input ('커피값을 주세요'))\n",
    "coffee_price, type(coffee_price)"
   ]
  },
  {
   "cell_type": "code",
   "execution_count": 4,
   "metadata": {},
   "outputs": [
    {
     "data": {
      "text/plain": [
       "True"
      ]
     },
     "execution_count": 4,
     "metadata": {},
     "output_type": "execute_result"
    }
   ],
   "source": [
    "coffee_price > 1500"
   ]
  },
  {
   "cell_type": "code",
   "execution_count": 5,
   "metadata": {},
   "outputs": [],
   "source": [
    "#2. 1500원 이상이면 <- 조건 1개\n",
    "# 문법 => if 조건식:\n",
    "# >, <,>= ,=< ,== ,!=, not(부정)\n",
    "# : => 코드블럭이 시작된다\n",
    "#      코드블럭 => 들여쓰기 후 진행(세로 줄이 바뀐다)\n",
    "#      그 조건이 만족될때만 수행하는 코드\n",
    "if coffee_price > 1500:\n",
    "    # 아무것도 하지 말고 일단 패스(구조 잡을 때, 실제 안할 때)\n",
    "    pass"
   ]
  },
  {
   "cell_type": "code",
   "execution_count": 15,
   "metadata": {},
   "outputs": [
    {
     "name": "stdout",
     "output_type": "stream",
     "text": [
      "거스름돈은 300원 입니다.\n"
     ]
    }
   ],
   "source": [
    "#. 거스름돈은 100원 입니다.\n",
    "if coffee_price > 1500:\n",
    "    tmp ='거스름돈은 %s원 입니다.'% (coffee_price-1500)\n",
    "    print(tmp)\n",
    "    pass"
   ]
  },
  {
   "cell_type": "markdown",
   "metadata": {},
   "source": [
    "#### 통합코드\n"
   ]
  },
  {
   "cell_type": "code",
   "execution_count": 9,
   "metadata": {},
   "outputs": [
    {
     "name": "stdout",
     "output_type": "stream",
     "text": [
      "커피값을 주세요1800\n",
      "거스름돈은 300원 입니다.\n"
     ]
    }
   ],
   "source": [
    "#while True:\n",
    "coffee_price = int(input ('커피값을 주세요'))\n",
    "if coffee_price > 1500:\n",
    "    tmp='거스름돈은 %s원 입니다.'% (coffee_price-1500)\n",
    "    print(tmp)\n",
    "    pass"
   ]
  },
  {
   "cell_type": "code",
   "execution_count": 7,
   "metadata": {},
   "outputs": [
    {
     "data": {
      "text/plain": [
       "'\\n# 들여쓰기 : 코드블럭\\n# 코드블럭 내에 존재하는 코드=> 수행문=> statements\\nif 조건식:\\n     코드블럭내 코드 : statements\\nelif 조선식:\\n     코드블럭내 코드: statements\\nelse:\\n    코드브럭내 코드: statements\\n     '"
      ]
     },
     "execution_count": 7,
     "metadata": {},
     "output_type": "execute_result"
    }
   ],
   "source": [
    "'''\n",
    "# 들여쓰기 : 코드블럭\n",
    "# 코드블럭 내에 존재하는 코드=> 수행문=> statements\n",
    "if 조건식:\n",
    "     코드블럭내 코드 : statements\n",
    "elif 조선식:\n",
    "     코드블럭내 코드: statements\n",
    "else:\n",
    "    코드브럭내 코드: statements\n",
    "     '''"
   ]
  },
  {
   "cell_type": "code",
   "execution_count": null,
   "metadata": {},
   "outputs": [],
   "source": [
    "# 커피값을 입력받아서 1200이하면 돈을 더 받아라.\n",
    "# 내용은 \"받을 금액 (커피값1200-받은 금액)은 xx입니다.\""
   ]
  },
  {
   "cell_type": "code",
   "execution_count": 16,
   "metadata": {},
   "outputs": [
    {
     "name": "stdout",
     "output_type": "stream",
     "text": [
      "커피값을 주세요1000\n"
     ]
    },
    {
     "data": {
      "text/plain": [
       "int"
      ]
     },
     "execution_count": 16,
     "metadata": {},
     "output_type": "execute_result"
    }
   ],
   "source": [
    "coffee_price = int(input('커피값을 주세요'))\n",
    "type(coffee_price)"
   ]
  },
  {
   "cell_type": "code",
   "execution_count": 29,
   "metadata": {},
   "outputs": [
    {
     "name": "stdout",
     "output_type": "stream",
     "text": [
      "돈을 200원 더 주셔야 합니다\n"
     ]
    }
   ],
   "source": [
    "if coffee_price < 1200:\n",
    "    k='돈을 %s원 더 주셔야 합니다' % (1200-coffee_price)\n",
    "    print(k)\n",
    "    pass"
   ]
  },
  {
   "cell_type": "code",
   "execution_count": 36,
   "metadata": {},
   "outputs": [
    {
     "name": "stdout",
     "output_type": "stream",
     "text": [
      "정수5\n"
     ]
    },
    {
     "data": {
      "text/plain": [
       "int"
      ]
     },
     "execution_count": 36,
     "metadata": {},
     "output_type": "execute_result"
    }
   ],
   "source": [
    "k=int(input('정수'))\n",
    "type(k)"
   ]
  },
  {
   "cell_type": "code",
   "execution_count": 48,
   "metadata": {},
   "outputs": [
    {
     "name": "stdout",
     "output_type": "stream",
     "text": [
      "ok\n"
     ]
    }
   ],
   "source": [
    "\n",
    "if k !=10:\n",
    "    print('ok')\n",
    "    pass"
   ]
  },
  {
   "cell_type": "code",
   "execution_count": null,
   "metadata": {},
   "outputs": [],
   "source": [
    "### 반복문\n",
    "\n",
    "-특정한 작업을 반복해서 수행한다 => 구구단 \n",
    "-for : 지정된 횟수를 반복한다. 5번 반복, 10번 반복 \n",
    "-while : 0~무한대, 반복을 안할 수도, 무한대로(무한루프) 가능\n",
    "    - 언제끝날지 모르겠다"
   ]
  },
  {
   "cell_type": "code",
   "execution_count": null,
   "metadata": {},
   "outputs": [],
   "source": [
    "# while \n",
    "# 재료 : 데이터 덩어리 <- 연속데이터 타입\n",
    "a = [1,2,3,4,5]\n",
    "\n",
    "'''\n",
    "while 조건:\n",
    "    #statements (수행문) ...\n",
    "'''\n",
    "\n",
    "# a의 멤버가 없을때까지 반복해서, \n",
    "# a의 멤버수가 0보다 크다면 반복작업을 수행해라.\n",
    "while len(a)>0 :\n",
    "    print('반복작업수행')\n",
    "    a \n",
    "    pass\n",
    "    "
   ]
  },
  {
   "cell_type": "code",
   "execution_count": null,
   "metadata": {},
   "outputs": [],
   "source": [
    "len(a)"
   ]
  },
  {
   "cell_type": "code",
   "execution_count": null,
   "metadata": {},
   "outputs": [],
   "source": []
  },
  {
   "cell_type": "code",
   "execution_count": null,
   "metadata": {},
   "outputs": [],
   "source": []
  }
 ],
 "metadata": {
  "kernelspec": {
   "display_name": "Python 3",
   "language": "python",
   "name": "python3"
  },
  "language_info": {
   "codemirror_mode": {
    "name": "ipython",
    "version": 3
   },
   "file_extension": ".py",
   "mimetype": "text/x-python",
   "name": "python",
   "nbconvert_exporter": "python",
   "pygments_lexer": "ipython3",
   "version": "3.7.4"
  }
 },
 "nbformat": 4,
 "nbformat_minor": 2
}