{
 "cells": [
  {
   "cell_type": "markdown",
   "metadata": {},
   "source": [
    "### 정규식\n",
    "\n",
    "- 정규 표현식\n",
    "- Regular Expression\n",
    "- 복잡한 문자열을 처리할때 사용하는 기법\n",
    "    - 문자열에서 원하는 데이터만 추출, 가공, 삭제 <= 전처리/정제"
   ]
  },
  {
   "cell_type": "code",
   "execution_count": 1,
   "metadata": {},
   "outputs": [],
   "source": [
    "# 1. 모듈가져오기\n",
    "import re"
   ]
  },
  {
   "cell_type": "code",
   "execution_count": 11,
   "metadata": {},
   "outputs": [
    {
     "data": {
      "text/plain": [
       "'\\nBTS (Korean: 방탄소년단;'"
      ]
     },
     "execution_count": 11,
     "metadata": {},
     "output_type": "execute_result"
    }
   ],
   "source": [
    "test_txt = '''\n",
    "BTS (Korean: 방탄소년단; RR: Bangtan Sonyeondan), also known as the Bangtan Boys, is a seven-member South Korean boy band formed in Seoul in 2013. The septet co-writes and produces much of their output. Originally a hip hop group, their musical style has evolved to include a wide range of genres. Their lyrics, often focused on personal and social commentary, touch on the themes of mental health, troubles of school-age youth, loss, the journey towards loving oneself, and individualism. Their work features references to literature and psychological concepts and includes an alternative universe storyline. The group have staged several world tours.\n",
    "\n",
    "The group initially formed as teenagers under Big Hit Entertainment and released their debut single album, 2 Cool 4 Skool (2013). Subsequent work such as their first U.S. Billboard 200 entries The Most Beautiful Moment in Life, Part 2 (2015), The Most Beautiful Moment in Life: Young Forever (2016), and Wings (2016) helped establish BTS' reputation as a socially conscious group. Wings became BTS' first album to sell one million copies in South Korea. By 2017, BTS crossed into the international music market, leading the Korean Wave into the United States and breaking numerous sales records, becoming the first Korean group to receive a certification from the Recording Industry Association of America (RIAA) for their single \"Mic Drop\". The band is the first Korean act to top the Billboard 200 with their studio album Love Yourself: Tear (2018) and have since hit the top of the U.S. charts with their albums Love Yourself: Answer (2018) and Map of the Soul: Persona (2019), making BTS the first group since the Beatles to earn three number one albums in less than a year. Love Yourself: Answer also broke South Korea's Gaon Album Chart's all-time monthly record previously set by Love Yourself: Tear and became the first Korean album certified Gold in the United States.\n",
    "\n",
    "According to the Gaon Music Chart, BTS has sold sixteen million albums domestically in physical sales and is the best-selling artist to debut in the 2010s.[3] They hold the best-selling album in Korean history with Map of the Soul: Persona. BTS were the second best-selling artists of 2018 worldwide according to the IFPI's Global Artist Chart, as well as the only non-English speaking artist to enter the chart. The group has won Top Social Artist three years in a row and Top Duo/Group at the 26th Billboard Music Awards. Featured on Time's international cover as \"Next Generation Leaders\", BTS has appeared in the magazine's 25 most influential people on the internet (2017–2019) and Time's 100 most influential people in the world (2019). Forbes Korea named BTS the most influential celebrities of Korea in 2018, and BTS ranked 43rd in the Forbes Celebrity 100 (2019) as one of the world's top-earning celebrities. BTS are ranked #4 of Billboard's Top Social Artist of the 2010s, and are the highest group on the list. During their Love Yourself World Tour, BTS became the first Asian and first non-English speaking act to headline and sell out Wembley Stadium; and broke the record for the single highest-grossing engagement in Rose Bowl Stadium history. Billboard ranked BTS at #45 on their Top Touring Artists of the 2010s list, being the highest-ranked Asian as well as the only non-English speaking act on the list. As of 2019, BTS are purportedly worth more than $4.65 billion to South Korea's economy each year, or 0.3 percent of the country's GDP. BTS attracted one in every 13 foreign tourists that visited South Korea and were cited as one of the key acts boosting global music sales to $19 billion in 2018.\n",
    "\n",
    "Following the establishment of their Love Myself anti-violence campaign in partnership with UNICEF, BTS addressed the United Nations 73rd General Assembly and became the youngest ever recipients of the Order of Cultural Merit from the President of South Korea due to their contributions in spreading Korean culture and language.\n",
    "'''\n",
    "test_txt[:20]"
   ]
  },
  {
   "cell_type": "code",
   "execution_count": 5,
   "metadata": {},
   "outputs": [],
   "source": [
    "# 원문에서 한글 제거\n",
    "# 한글 초성 + 중성 + 종성=> euc-kr, 16bit => 조합형 코드\n",
    "# 한글 가,갸,거,겨,      => utf-8 ,  8bit => 완성형 코드\n",
    "# 완성형기준 => ㄱ -> ㅣ 가 ~ 힣\n",
    "hangul = re.compile( '[ㄱ-ㅣ가-힣]+' )"
   ]
  },
  {
   "cell_type": "code",
   "execution_count": 7,
   "metadata": {},
   "outputs": [],
   "source": [
    "alpha = re.compile( '[a-zA-Z]+' )"
   ]
  },
  {
   "cell_type": "code",
   "execution_count": 6,
   "metadata": {},
   "outputs": [
    {
     "data": {
      "text/plain": [
       "'\\nBTS (Korean: ; RR: Bangtan Sonyeondan), also known as the Bangtan Boys, is a seven-member South Kor'"
      ]
     },
     "execution_count": 6,
     "metadata": {},
     "output_type": "execute_result"
    }
   ],
   "source": [
    "# 한글을 ''으로 대체해라 -> 제거해라 \n",
    "hangul.sub( '', test_txt )[:100]"
   ]
  },
  {
   "cell_type": "code",
   "execution_count": 8,
   "metadata": {},
   "outputs": [
    {
     "data": {
      "text/plain": [
       "'\\n (: 방탄소년단; :  ),      ,   -         2013.   -      .     ,            .  ,       ,       ,   - , , '"
      ]
     },
     "execution_count": 8,
     "metadata": {},
     "output_type": "execute_result"
    }
   ],
   "source": [
    "alpha.sub( '', test_txt )[:100]"
   ]
  },
  {
   "cell_type": "markdown",
   "metadata": {},
   "source": [
    "- 메타문자 (meta characters)\n",
    "    - 일반표현 : | . ^ $ * + ? {} () [] ...\n",
    "    - 이스케이프 표현 : \\d \\D \\s \\S \\w \\W \\b \\B ...\n",
    "\n",
    "- 함수\n",
    "    - match()\n",
    "    - search()\n",
    "    - findall()\n",
    "    - finditer()\n",
    "    - sub()\n",
    "\n",
    "- 그룹핑\n",
    "- 전방탐색\n",
    "    - 긍정형 전방 탐색\n",
    "    - 부정형 전방 탐색\n",
    "    \n",
    "- 컴파일 옵션"
   ]
  },
  {
   "cell_type": "markdown",
   "metadata": {},
   "source": [
    "- 1. 데이터를 보고 <= 통찰\n",
    "- 2. 정제 및 추출을 할수 있는 표현식을 구현한후 <= 정규식 구현\n",
    "- 3. 함수를 써서 데이터를 획득한다 <= 최종 추출"
   ]
  },
  {
   "cell_type": "markdown",
   "metadata": {},
   "source": [
    "### 메타문자\n",
    "\n",
    "- **|**\n",
    "- 의미 : or"
   ]
  },
  {
   "cell_type": "code",
   "execution_count": 3,
   "metadata": {},
   "outputs": [
    {
     "name": "stdout",
     "output_type": "stream",
     "text": [
      "1. 매치된다\n",
      "2. 매치된다\n",
      "3. 매치된다\n"
     ]
    }
   ],
   "source": [
    "# re.match( 정규식 , 데이터 ) => True/False\n",
    "# re.match() : 특정 패턴이 데이터에 적용이 되었는지를 검사\n",
    "if re.match( 'a|b|c' , 'a'):print('1. 매치된다')\n",
    "if re.match( 'a|b|c' , 'b'):print('2. 매치된다')\n",
    "if re.match( 'a|b|c' , 'c'):print('3. 매치된다')"
   ]
  },
  {
   "cell_type": "code",
   "execution_count": 6,
   "metadata": {},
   "outputs": [
    {
     "name": "stdout",
     "output_type": "stream",
     "text": [
      "5. 매치된다\n"
     ]
    }
   ],
   "source": [
    "if re.match( 'a|b|c' , 'd'): print('4. 매치된다')\n",
    "# 한개라도 일치되는게 있으면 참\n",
    "if re.match( 'a|b|c' , 'ad'):print('5. 매치된다')\n",
    "# a나 b나 c중에 하나가 가장먼저 시작한다 (첫글자) -> False  \n",
    "if re.match( 'a|b|c' , 'da'):print('6. 매치된다')"
   ]
  },
  {
   "cell_type": "markdown",
   "metadata": {},
   "source": [
    "- **[]**\n",
    "- 의미 : 문자 클레스\n",
    "- [와 ]것 사이에는 어떤 문자도 들어갈수 있다\n",
    "- []는 문자 한개를 의미한다\n",
    "- match(시작단어), search(전체중에일치되는단어)를 사용할경우 한개만 일치되도 참"
   ]
  },
  {
   "cell_type": "code",
   "execution_count": 11,
   "metadata": {},
   "outputs": [
    {
     "name": "stdout",
     "output_type": "stream",
     "text": [
      "1. 매치된다\n",
      "3. 매치된다\n",
      "4. 매치된다\n",
      "5. 매치된다\n"
     ]
    }
   ],
   "source": [
    "# 문자열은 a, b, c중에 하나가 시작문자여야 한다 \n",
    "if re.match( '[abc]' , 'a'): print('1. 매치된다')\n",
    "if re.match( '[abc]' , 'efz'): print('2. 매치된다')\n",
    "if re.match( '[abc]' , 'abd'): print('3. 매치된다')\n",
    "if re.match( '[abc]' , 'b56'): print('4. 매치된다')\n",
    "    \n",
    "if re.search( '[abc]' , '56b'): print('5. 매치된다')"
   ]
  },
  {
   "cell_type": "markdown",
   "metadata": {},
   "source": [
    "- **-**  \n",
    "\n",
    "- 의미 : [] 문자클레스 안에 두개의 문자 사이에 표현하면\n",
    "- from ~ to : 어디서부터 어디까지 범위를 표현"
   ]
  },
  {
   "cell_type": "code",
   "execution_count": 13,
   "metadata": {},
   "outputs": [
    {
     "name": "stdout",
     "output_type": "stream",
     "text": [
      "1. 매치된다\n",
      "2. 매치된다\n"
     ]
    }
   ],
   "source": [
    "if re.match( '[0123456789]' , '1'): print('1. 매치된다')\n",
    "if re.match( '[0-9]' , '1'): print('2. 매치된다')    "
   ]
  },
  {
   "cell_type": "code",
   "execution_count": 15,
   "metadata": {},
   "outputs": [
    {
     "name": "stdout",
     "output_type": "stream",
     "text": [
      "4. 매치된다\n"
     ]
    }
   ],
   "source": [
    "if re.match( '[a-zA-Z]' , '1'): print('3. 매치된다')\n",
    "if re.match( '[a-zA-Z]' , 'B'): print('4. 매치된다')"
   ]
  },
  {
   "cell_type": "code",
   "execution_count": 16,
   "metadata": {},
   "outputs": [
    {
     "name": "stdout",
     "output_type": "stream",
     "text": [
      "6. 매치된다\n"
     ]
    }
   ],
   "source": [
    "if re.match( '[0-9a-z]' , 'Aa'): print('5. 매치된다')\n",
    "# 문자열내에 존재하기만 하면 체크됨\n",
    "if re.search( '[0-9a-z]' , 'Aa'): print('6. 매치된다')    "
   ]
  },
  {
   "cell_type": "code",
   "execution_count": 17,
   "metadata": {},
   "outputs": [
    {
     "name": "stdout",
     "output_type": "stream",
     "text": [
      "7. 매치된다\n"
     ]
    }
   ],
   "source": [
    "# 한글 완성형코드(utf-8)\n",
    "if re.match( '[ㄱ-힣]' , '가나다bc'): print('7. 매치된다')"
   ]
  },
  {
   "cell_type": "markdown",
   "metadata": {},
   "source": [
    "- **.**  \n",
    "\n",
    "- 의미 : dot(.) 줄바꿈 기호 \\n를 제외하고 모든 문자에 매치 => [] 문자 클레스가 아닌곳에서 해당. \n",
    "- 문자 클레스 내부에서는 .은 .이다"
   ]
  },
  {
   "cell_type": "code",
   "execution_count": 26,
   "metadata": {},
   "outputs": [
    {
     "name": "stdout",
     "output_type": "stream",
     "text": [
      "1. 매치된다\n",
      "2. 매치된다\n",
      "4. 매치된다\n",
      "5. 매치된다\n",
      "6. 매치된다\n",
      "7. 매치된다\n",
      "9. 매치된다\n"
     ]
    }
   ],
   "source": [
    "if re.match( '[a.b]' , 'a'): print('1. 매치된다')\n",
    "if re.match( '[a.b]' , 'b'): print('2. 매치된다')\n",
    "if re.match( '[a.b]' , 'c'): print('3. 매치된다')    \n",
    "    \n",
    "if re.match( '[a.b]' , 'ab'): print('4. 매치된다')    \n",
    "if re.match( '[a.b]' , 'a1b'): print('5. 매치된다')    \n",
    "if re.match( '[a.b]' , 'abc'): print('6. 매치된다')        \n",
    "if re.match( '[a.b]' , 'bcd'): print('7. 매치된다')            \n",
    "if re.match( '[a.b]' , 'cab'): print('8. 매치된다')\n",
    "    \n",
    "if re.match( '[a.b]' , '.ab'): print('9. 매치된다')    "
   ]
  },
  {
   "cell_type": "code",
   "execution_count": 24,
   "metadata": {},
   "outputs": [
    {
     "name": "stdout",
     "output_type": "stream",
     "text": [
      "3. 매치된다\n",
      "4. 매치된다\n"
     ]
    }
   ],
   "source": [
    "# a문자b 라는 형태로 출발해야 통과\n",
    "if re.match( 'a.b' , 'a'): print('1. 매치된다')\n",
    "if re.match( 'a.b' , 'abc'): print('2. 매치된다')\n",
    "if re.match( 'a.b' , 'a1b'): print('3. 매치된다')\n",
    "if re.match( 'a.b' , 'a2be'): print('4. 매치된다')    "
   ]
  },
  {
   "cell_type": "markdown",
   "metadata": {},
   "source": [
    "- **^**\n",
    "- 의미: 일반문자열 => 문자열의 맨 처음과 일치함을 의미\n",
    "        문자클레스내 => 배제, 해당 문자 배제\n",
    "        re.MULTILINE => 각 라인의 처음과 일치함을 조사\n",
    "\n",
    "- **$**\n",
    "- 의미: 문자열의 맨끝과 일치  \n",
    "\n",
    "\n",
    "- *\n",
    "- 의미: *를 붙인 바로 앞문자 0~무한대 반복\n",
    "\n",
    "\n",
    "- **+**\n",
    "- 의미: +를 붙인 바로 앞문자 1~무한대 반복\n",
    "-       문자열 클레스 내부에서 기술하면, 단순 +가될수도있고, 반복의 의미가 될수도 있다( 주변값을 고려해서 해석)"
   ]
  },
  {
   "cell_type": "code",
   "execution_count": 27,
   "metadata": {},
   "outputs": [
    {
     "name": "stdout",
     "output_type": "stream",
     "text": [
      "1. 매치된다\n"
     ]
    }
   ],
   "source": [
    "# 숫자나 .으로 시작하고 끝난다\n",
    "if re.match( '^[0-9\\.]$' , '1'): print('1. 매치된다')"
   ]
  },
  {
   "cell_type": "code",
   "execution_count": 28,
   "metadata": {},
   "outputs": [
    {
     "name": "stdout",
     "output_type": "stream",
     "text": [
      "1. 매치된다\n"
     ]
    }
   ],
   "source": [
    "if re.match( '^[0-9\\.]$' , '.'): print('1. 매치된다')"
   ]
  },
  {
   "cell_type": "code",
   "execution_count": 30,
   "metadata": {},
   "outputs": [],
   "source": [
    "# 문자열은 1개 -> 문자의 수량에서 False가 되었다 => 해결방안: * or +\n",
    "if re.match( '^[0-9\\.]$' , '11'): print('1. 매치된다')\n",
    "if re.match( '^[0-9\\.]$' , '1.'): print('2. 매치된다')\n",
    "if re.match( '^[0-9\\.]$' , '.1'): print('3. 매치된다')    \n",
    "if re.match( '^[0-9\\.]$' , '..'): print('4. 매치된다')        "
   ]
  },
  {
   "cell_type": "code",
   "execution_count": 31,
   "metadata": {},
   "outputs": [
    {
     "name": "stdout",
     "output_type": "stream",
     "text": [
      "1. 매치된다\n",
      "2. 매치된다\n",
      "3. 매치된다\n",
      "4. 매치된다\n"
     ]
    }
   ],
   "source": [
    "if re.match( '^[0-9\\.]+$' , '11'): print('1. 매치된다')\n",
    "if re.match( '^[0-9\\.]+$' , '1.'): print('2. 매치된다')\n",
    "if re.match( '^[0-9\\.]*$' , '.1'): print('3. 매치된다')    \n",
    "if re.match( '^[0-9\\.]*$' , '..'): print('4. 매치된다')   "
   ]
  },
  {
   "cell_type": "code",
   "execution_count": 32,
   "metadata": {},
   "outputs": [],
   "source": [
    "# 정규식의 패턴이 늘어감에 따라 match 종합적인 조건을 따지게된다\n",
    "# 시작문자 and 끝문자 and 문자수 and 문자 성분\n",
    "if re.match( '^[0-9\\.]*$' , '.asdf.'): print('4. 매치된다')   "
   ]
  },
  {
   "cell_type": "code",
   "execution_count": 34,
   "metadata": {},
   "outputs": [
    {
     "name": "stdout",
     "output_type": "stream",
     "text": [
      "2. 매치된다\n",
      "3. 매치된다\n",
      "4. 매치된다\n"
     ]
    }
   ],
   "source": [
    "# [^0-9]: 숫자를 제외하고 모든 문자가 시작문자가 될수 있다\n",
    "if re.match( '[^0-9]' , '1'): print('1. 매치된다')   \n",
    "if re.match( '[^0-9]' , '가'): print('2. 매치된다')\n",
    "if re.match( '[^0-9]' , 'a'): print('3. 매치된다')\n",
    "if re.match( '[^0-9]' , 'ab'): print('4. 매치된다')"
   ]
  },
  {
   "cell_type": "code",
   "execution_count": 44,
   "metadata": {},
   "outputs": [
    {
     "data": {
      "text/plain": [
       "'류현진 국내 매니지먼트를 담당하는 에이스펙 코퍼레이션은 “류현진 이 25일 출국할 예정”이라고 전했다. 류현진 은 메디컬테스트를 받고 이상이 발견되지 않으면 현지에서 입단 기자회견도 소화할 계획이다.\\n\\n류현진 앞서 자유계약선수(FA) 신분인 류현진 은 23일 토론토와 \\n\\n4년 8000만 달러(약 929억4000만 원)에 입단하기로 합의했다. 국내에서 훈련하던 류현진 을 대신해 에이전트 스콜 보라스가 협상을 진행했고, 토론토가 내민 조건에 합의했다. 미국과 캐나다 현지에서 기사가 쏟아졌지만 구단은 아직 확정 발표를 하지 않았다.\\n\\n류현진 한국인 투수 FA 최대 규모 계약은 \\n\\n박찬호가 2001년 12월 21일 텍사스 레인저스와 맺은 5년 6500만 달러다. 류현진 은 메디컬테스트를 통과하고 정식 계약서에 사인하는 순간 한국인 투수 FA 역대 최대 규모 계약의 주인공이 된다.\\n'"
      ]
     },
     "execution_count": 44,
     "metadata": {},
     "output_type": "execute_result"
    }
   ],
   "source": [
    "data = '''류현진 국내 매니지먼트를 담당하는 에이스펙 코퍼레이션은 “류현진 이 25일 출국할 예정”이라고 전했다. 류현진 은 메디컬테스트를 받고 이상이 발견되지 않으면 현지에서 입단 기자회견도 소화할 계획이다.\n",
    "\n",
    "류현진 앞서 자유계약선수(FA) 신분인 류현진 은 23일 토론토와 \n",
    "\n",
    "4년 8000만 달러(약 929억4000만 원)에 입단하기로 합의했다. 국내에서 훈련하던 류현진 을 대신해 에이전트 스콜 보라스가 협상을 진행했고, 토론토가 내민 조건에 합의했다. 미국과 캐나다 현지에서 기사가 쏟아졌지만 구단은 아직 확정 발표를 하지 않았다.\n",
    "\n",
    "류현진 한국인 투수 FA 최대 규모 계약은 \n",
    "\n",
    "박찬호가 2001년 12월 21일 텍사스 레인저스와 맺은 5년 6500만 달러다. 류현진 은 메디컬테스트를 통과하고 정식 계약서에 사인하는 순간 한국인 투수 FA 역대 최대 규모 계약의 주인공이 된다.\n",
    "'''\n",
    "data\n",
    "# 특정 단어가 시작문자로 여러줄에 걸쳐서 등장한다"
   ]
  },
  {
   "cell_type": "code",
   "execution_count": 45,
   "metadata": {},
   "outputs": [],
   "source": [
    "# 정규식을 컴파일하고,\n",
    "# 이를 이용하여 데이터를 처리한다\n",
    "# \\s : whitespace (공백, 탭,...)\n",
    "# \\w : 한단어( +,* 통해서 늘릴수 있다)\n",
    "# 류현진으로 시작하고 한칸 띠고 한단어까지로 시작하는 문자열\n",
    "p = re.compile( '^류현진\\s\\w+' )"
   ]
  },
  {
   "cell_type": "code",
   "execution_count": 46,
   "metadata": {},
   "outputs": [
    {
     "data": {
      "text/plain": [
       "['류현진 국내']"
      ]
     },
     "execution_count": 46,
     "metadata": {},
     "output_type": "execute_result"
    }
   ],
   "source": [
    "# 한번밖에 않나온다=>멀티 라인 미지원\n",
    "p.findall( data )"
   ]
  },
  {
   "cell_type": "code",
   "execution_count": 47,
   "metadata": {},
   "outputs": [
    {
     "data": {
      "text/plain": [
       "['류현진 국내', '류현진 앞서', '류현진 한국인']"
      ]
     },
     "execution_count": 47,
     "metadata": {},
     "output_type": "execute_result"
    }
   ],
   "source": [
    "# 문자열 전체의 단락별 시작문자열이 패턴과 일치하면 다 수집\n",
    "# 멀리 라인 지원\n",
    "p = re.compile( '^류현진\\s\\w+', re.MULTILINE )\n",
    "p.findall( data )"
   ]
  },
  {
   "cell_type": "code",
   "execution_count": 48,
   "metadata": {},
   "outputs": [
    {
     "data": {
      "text/plain": [
       "['류현진 국내', '류현진 이', '류현진 은', '류현진 앞서', '류현진 은', '류현진 을', '류현진 한국인', '류현진 은']"
      ]
     },
     "execution_count": 48,
     "metadata": {},
     "output_type": "execute_result"
    }
   ],
   "source": [
    "# 문자열 전체에 동일 패턴이 보이면 다 수집\n",
    "p = re.compile( '류현진\\s\\w+', re.MULTILINE )\n",
    "p.findall( data )"
   ]
  },
  {
   "cell_type": "code",
   "execution_count": 49,
   "metadata": {},
   "outputs": [
    {
     "name": "stdout",
     "output_type": "stream",
     "text": [
      "4. 매치된다\n"
     ]
    }
   ],
   "source": [
    "# $ : 문자열의 끝 패턴\n",
    "if re.match( '^[0-9]+[a-z]+$' , '1'): print('1. 매치된다')   \n",
    "if re.match( '^[0-9]+[a-z]+$' , '11'): print('2. 매치된다')   \n",
    "if re.match( '^[0-9]+[a-z]+$' , '11111111A'): print('3. 매치된다')\n",
    "if re.match( '^[0-9]+[a-z]+$' , '11111111a'): print('4. 매치된다')"
   ]
  },
  {
   "cell_type": "code",
   "execution_count": 51,
   "metadata": {},
   "outputs": [
    {
     "name": "stdout",
     "output_type": "stream",
     "text": [
      "1. 매치된다\n",
      "2. 매치된다\n",
      "3. 매치된다\n"
     ]
    }
   ],
   "source": [
    "# 반복\n",
    "# * : 0~무한대\n",
    "if re.match( 'bus*an' , 'buan'): print('1. 매치된다')  \n",
    "if re.match( 'bus*an' , 'busan'): print('2. 매치된다')  \n",
    "if re.match( 'bus*an' , 'bussan'): print('3. 매치된다')      "
   ]
  },
  {
   "cell_type": "code",
   "execution_count": 52,
   "metadata": {},
   "outputs": [
    {
     "name": "stdout",
     "output_type": "stream",
     "text": [
      "2. 매치된다\n",
      "3. 매치된다\n"
     ]
    }
   ],
   "source": [
    "# + : 1~무한대\n",
    "if re.match( 'bus+an' , 'buan'): print('1. 매치된다')  \n",
    "if re.match( 'bus+an' , 'busan'): print('2. 매치된다')  \n",
    "if re.match( 'bus+an' , 'bussan'): print('3. 매치된다')      "
   ]
  },
  {
   "cell_type": "markdown",
   "metadata": {},
   "source": [
    "- {}\n",
    "    - 반복 횟수 지정\n",
    "    - {2} 2번 반복\n",
    "    - {2, 3} 2부터 3까지 반복\n",
    "- ?\n",
    "    - {0, 1}\n",
    "    - 0번 OK, 1번 OK\n",
    "    - 않나오던지, 나오면 1번만 나오던지"
   ]
  },
  {
   "cell_type": "code",
   "execution_count": 53,
   "metadata": {},
   "outputs": [
    {
     "name": "stdout",
     "output_type": "stream",
     "text": [
      "3. 매치된다\n"
     ]
    }
   ],
   "source": [
    "if re.match( 'bus{2}an' , 'buan'): print('1. 매치된다')  \n",
    "if re.match( 'bus{2}an' , 'busan'): print('2. 매치된다')  \n",
    "if re.match( 'bus{2}an' , 'bussan'): print('3. 매치된다')  "
   ]
  },
  {
   "cell_type": "code",
   "execution_count": 54,
   "metadata": {},
   "outputs": [
    {
     "name": "stdout",
     "output_type": "stream",
     "text": [
      "1. 매치된다\n"
     ]
    }
   ],
   "source": [
    "# 문자 클레스안에스는 본질적인 의미가 없어진다. 그냥 문자로본다\n",
    "if re.match( '[bus{2}an]' , 'buan'): print('1. 매치된다') "
   ]
  },
  {
   "cell_type": "code",
   "execution_count": 55,
   "metadata": {},
   "outputs": [
    {
     "name": "stdout",
     "output_type": "stream",
     "text": [
      "3. 매치된다\n",
      "4. 매치된다\n"
     ]
    }
   ],
   "source": [
    "# m ~ n까지\n",
    "if re.match( 'bus{2,3}an' , 'buan'): print('1. 매치된다')  \n",
    "if re.match( 'bus{2,3}an' , 'busan'): print('2. 매치된다')  \n",
    "if re.match( 'bus{2,3}an' , 'bussan'): print('3. 매치된다')  \n",
    "if re.match( 'bus{2,3}an' , 'busssan'): print('4. 매치된다')  \n",
    "if re.match( 'bus{2,3}an' , 'bussssan'): print('5. 매치된다')  "
   ]
  },
  {
   "cell_type": "code",
   "execution_count": 56,
   "metadata": {},
   "outputs": [
    {
     "name": "stdout",
     "output_type": "stream",
     "text": [
      "3. 매치된다\n",
      "4. 매치된다\n",
      "5. 매치된다\n"
     ]
    }
   ],
   "source": [
    "# 범위안에서 전부 OK\n",
    "if re.match( 'bus{2,4}an' , 'buan'): print('1. 매치된다')  \n",
    "if re.match( 'bus{2,4}an' , 'busan'): print('2. 매치된다')  \n",
    "if re.match( 'bus{2,4}an' , 'bussan'): print('3. 매치된다')  \n",
    "if re.match( 'bus{2,4}an' , 'busssan'): print('4. 매치된다')  \n",
    "if re.match( 'bus{2,4}an' , 'bussssan'): print('5. 매치된다')  "
   ]
  },
  {
   "cell_type": "code",
   "execution_count": 57,
   "metadata": {},
   "outputs": [
    {
     "name": "stdout",
     "output_type": "stream",
     "text": [
      "1. 매치된다\n",
      "2. 매치된다\n"
     ]
    }
   ],
   "source": [
    "# ?\n",
    "if re.match( 'bus?an' , 'buan'): print('1. 매치된다')  \n",
    "if re.match( 'bus?an' , 'busan'): print('2. 매치된다')  \n",
    "if re.match( 'bus?an' , 'bussan'): print('3. 매치된다')  "
   ]
  },
  {
   "cell_type": "code",
   "execution_count": 76,
   "metadata": {},
   "outputs": [
    {
     "name": "stdout",
     "output_type": "stream",
     "text": [
      "1. 매치된다\n"
     ]
    }
   ],
   "source": [
    "# 핸드폰 전화번호 정규식\n",
    "# 010-숫자4개-숫자4개\n",
    "if re.match( '^010-[0-9]{4}-[0-9]{4}$' , '010-1234-5678'):\n",
    "    print('1. 매치된다')  "
   ]
  },
  {
   "cell_type": "markdown",
   "metadata": {},
   "source": [
    "### 메타문자 > 이스케이프\n",
    "\n",
    "- \\d <-> \\D\n",
    "- \\s <-> \\S\n",
    "- \\w <-> \\W\n",
    "- \\b <-> \\B\n",
    "- 기타\n",
    "    - 문자클레스 [] 에서 특수문자, 화이트스페이등을 표현할때\n",
    "    - . => \\ . 이런식으로 표현할수 있다"
   ]
  },
  {
   "cell_type": "code",
   "execution_count": 77,
   "metadata": {},
   "outputs": [
    {
     "name": "stdout",
     "output_type": "stream",
     "text": [
      "1. 매치된다\n"
     ]
    }
   ],
   "source": [
    "# \\d : 숫자 => [0-9]  \n",
    "if re.match( '[\\d]' , '1'): print('1. 매치된다') \n",
    "if re.match( '[\\d]' , 'a'): print('2. 매치된다')     "
   ]
  },
  {
   "cell_type": "code",
   "execution_count": 78,
   "metadata": {},
   "outputs": [
    {
     "name": "stdout",
     "output_type": "stream",
     "text": [
      "2. 매치된다\n"
     ]
    }
   ],
   "source": [
    "# \\D : 숫자말고나머지 => [^0-9]  \n",
    "if re.match( '[\\D]' , '1'): print('1. 매치된다') \n",
    "if re.match( '[\\D]' , 'a'): print('2. 매치된다') "
   ]
  },
  {
   "cell_type": "code",
   "execution_count": 79,
   "metadata": {},
   "outputs": [
    {
     "name": "stdout",
     "output_type": "stream",
     "text": [
      "1. 매치된다\n"
     ]
    }
   ],
   "source": [
    "# \\s -> whitespace : \\t, \\n, \\r, \\f, \\v\n",
    "# 수평탭, 개행, 캐리지리턴, 폼 피드, 수직탭 => 눈에 보이지않고,\n",
    "# 공백처럼 보이면서 문자열상에 정보를 제공 문자\n",
    "if re.match( '[\\s]' , ' \\t\\n\\r\\f\\v'): print('1. 매치된다') \n",
    "if re.match( '[\\s]' , 'a \\t\\n\\r\\f\\v'): print('2. 매치된다') "
   ]
  },
  {
   "cell_type": "code",
   "execution_count": 80,
   "metadata": {},
   "outputs": [
    {
     "name": "stdout",
     "output_type": "stream",
     "text": [
      "2. 매치된다\n"
     ]
    }
   ],
   "source": [
    "# \\S -> whitespace가 아닌 문자\n",
    "if re.match( '[\\S]' , ' \\t\\n\\r\\f\\v'): print('1. 매치된다') \n",
    "if re.match( '[\\S]' , 'a \\t\\n\\r\\f\\v'): print('2. 매치된다') "
   ]
  },
  {
   "cell_type": "code",
   "execution_count": 84,
   "metadata": {},
   "outputs": [
    {
     "name": "stdout",
     "output_type": "stream",
     "text": [
      "1. 매치된다\n",
      "2. 매치된다\n",
      "3. 매치된다\n",
      "4. 매치된다\n"
     ]
    }
   ],
   "source": [
    "# \\w -> 문자, 숫자와 매치 : [a-zA-Z0-9ㄱ-힣], 언어면 다 OK\n",
    "if re.match( '[\\w]' , 'a0'): print('1. 매치된다') \n",
    "if re.match( '[\\w]' , '가'): print('2. 매치된다') \n",
    "if re.match( '[\\w]' , '1'): print('3. 매치된다') \n",
    "if re.match( '[\\w]' , 'a'): print('4. 매치된다')     "
   ]
  },
  {
   "cell_type": "code",
   "execution_count": 85,
   "metadata": {},
   "outputs": [
    {
     "name": "stdout",
     "output_type": "stream",
     "text": [
      "6. 매치된다\n"
     ]
    }
   ],
   "source": [
    "# \\W -> 문자, 숫자가 아닌 문자와 매치, 특수문자, 이스케이프문자\n",
    "# [^a-zA-Z0-9ㄱ-힣]\n",
    "if re.match( '[\\W]' , 'a'): print('5. 매치된다')         \n",
    "if re.match( '[\\W]' , '\\t'): print('6. 매치된다')           "
   ]
  },
  {
   "cell_type": "code",
   "execution_count": 86,
   "metadata": {},
   "outputs": [
    {
     "name": "stdout",
     "output_type": "stream",
     "text": [
      "ABC가나다\t]\n",
      "라\n"
     ]
    }
   ],
   "source": [
    "# 일반 문자열은 인용부호(예:줄바꿈,...)는 해석되서 처리된다\n",
    "a = 'ABC가나다\\t]\\n라'\n",
    "print( a )"
   ]
  },
  {
   "cell_type": "code",
   "execution_count": 88,
   "metadata": {},
   "outputs": [
    {
     "name": "stdout",
     "output_type": "stream",
     "text": [
      "ABC가나다\\t]\\n라 <class 'str'>\n"
     ]
    }
   ],
   "source": [
    "# 만약, 데이터 그대로 받고 싶다면\n",
    "# Raw String\n",
    "# 이스케이프 문자가 적용되지 않는다\n",
    "a = r'ABC가나다\\t]\\n라'\n",
    "print( a, type(a) )"
   ]
  },
  {
   "cell_type": "code",
   "execution_count": 89,
   "metadata": {},
   "outputs": [],
   "source": [
    "# \\b 단어구분자 ( word boundary) \n",
    "# 일단 단어는 whitespace로 구분 된다\n",
    "# \\b는 일반단어에서 백키로 인식한다, 이 자체를 그대로 인식하게 \n",
    "# 하기위해서 raw string으로 표현해야 한다\n",
    "p = re.compile( r'\\bclass\\b' )"
   ]
  },
  {
   "cell_type": "code",
   "execution_count": 92,
   "metadata": {},
   "outputs": [
    {
     "name": "stdout",
     "output_type": "stream",
     "text": [
      "<_sre.SRE_Match object; span=(3, 8), match='class'> class\n"
     ]
    }
   ],
   "source": [
    "m = p.search( 'no class at 1234class' )\n",
    "print( m, m.group())"
   ]
  },
  {
   "cell_type": "code",
   "execution_count": 94,
   "metadata": {},
   "outputs": [
    {
     "name": "stdout",
     "output_type": "stream",
     "text": [
      "None\n"
     ]
    }
   ],
   "source": [
    "m = p.search( 'the classifier at one' )\n",
    "print( m )"
   ]
  },
  {
   "cell_type": "markdown",
   "metadata": {},
   "source": [
    "### 함수\n",
    "\n",
    "\n",
    "- match()\n",
    "    - 문자열의 처음부터 정규식과 매칭되는지 조사\n",
    "- search()\n",
    "    - 문자열 전체를 검색하여 매칭되는지 조사\n",
    "- findall()\n",
    "    - 정규식에 매칭되는 모든 문자열을 리스트로 리턴\n",
    "- finditer()\n",
    "    - 정규식에 매칭되는 모든 문자열을 iterator로 리턴\n",
    "- sub()\n",
    "    - 규칙과 매칭되는 부분을 다른 문자로 변경"
   ]
  },
  {
   "cell_type": "code",
   "execution_count": 95,
   "metadata": {},
   "outputs": [],
   "source": [
    "# 숫자가 나오고, 1~무한대로 반복될수 있다\n",
    "p = re.compile( '[0-9]+' )"
   ]
  },
  {
   "cell_type": "code",
   "execution_count": 96,
   "metadata": {},
   "outputs": [
    {
     "name": "stdout",
     "output_type": "stream",
     "text": [
      "None\n"
     ]
    }
   ],
   "source": [
    "# 매칭되는것이 없다 => None\n",
    "r = p.match( 'abcd5' )\n",
    "print( r )"
   ]
  },
  {
   "cell_type": "code",
   "execution_count": 98,
   "metadata": {},
   "outputs": [
    {
     "name": "stdout",
     "output_type": "stream",
     "text": [
      "<_sre.SRE_Match object; span=(0, 1), match='5'>\n",
      "5\n"
     ]
    }
   ],
   "source": [
    "r = p.match( '5' )\n",
    "print( r )\n",
    "if r:\n",
    "    print( r.group(), '일치되는 데이터가 나온다' )"
   ]
  },
  {
   "cell_type": "code",
   "execution_count": 100,
   "metadata": {},
   "outputs": [
    {
     "name": "stdout",
     "output_type": "stream",
     "text": [
      "<_sre.SRE_Match object; span=(0, 3), match='123'>\n",
      "123 일치되는 데이터가 나온다\n"
     ]
    }
   ],
   "source": [
    "r = p.match( '123abcd' )\n",
    "print( r )\n",
    "if r:\n",
    "    print( r.group(), '일치되는 데이터가 나온다' )\n",
    "else:\n",
    "    print('일치되는 데이터가 없다')"
   ]
  },
  {
   "cell_type": "code",
   "execution_count": 104,
   "metadata": {},
   "outputs": [],
   "source": [
    "data = 'i am a HuMan. 2020 가나다라마바사 !@#$'\n",
    "# 소문자만 찾아서, 소문자 글자 리스트를 리턴해리\n",
    "p = re.compile( '[a-z]+' )"
   ]
  },
  {
   "cell_type": "code",
   "execution_count": 111,
   "metadata": {},
   "outputs": [
    {
     "data": {
      "text/plain": [
       "'i'"
      ]
     },
     "execution_count": 111,
     "metadata": {},
     "output_type": "execute_result"
    }
   ],
   "source": [
    "r = p.match( data )\n",
    "# 매칭되는 실제값\n",
    "r.group()"
   ]
  },
  {
   "cell_type": "code",
   "execution_count": 106,
   "metadata": {},
   "outputs": [
    {
     "data": {
      "text/plain": [
       "['i', 'am', 'a', 'u', 'an']"
      ]
     },
     "execution_count": 106,
     "metadata": {},
     "output_type": "execute_result"
    }
   ],
   "source": [
    "p.findall( data )"
   ]
  },
  {
   "cell_type": "code",
   "execution_count": 109,
   "metadata": {},
   "outputs": [
    {
     "name": "stdout",
     "output_type": "stream",
     "text": [
      "i 0 1 (0, 1)\n",
      "am 2 4 (2, 4)\n",
      "a 5 6 (5, 6)\n",
      "u 8 9 (8, 9)\n",
      "an 10 12 (10, 12)\n"
     ]
    }
   ],
   "source": [
    "r = p.finditer( data )\n",
    "for n in r:\n",
    "    # 실제값, 시작인덱스, 긑인덱스, 인덱스 튜플값\n",
    "    print( n.group(), n.start(), n.end(), n.span() )"
   ]
  },
  {
   "cell_type": "code",
   "execution_count": 112,
   "metadata": {},
   "outputs": [],
   "source": [
    "# 매치되는 부분을 다른 문자로 변경\n",
    "p = re.compile( '(blue|red|white)' )"
   ]
  },
  {
   "cell_type": "code",
   "execution_count": 113,
   "metadata": {},
   "outputs": [
    {
     "data": {
      "text/plain": [
       "'색상 케이크 그리고 색상 와인을 가지고 집에가세요'"
      ]
     },
     "execution_count": 113,
     "metadata": {},
     "output_type": "execute_result"
    }
   ],
   "source": [
    "# 문자열 대체 \n",
    "p.sub( '색상', 'white 케이크 그리고 red 와인을 가지고 집에가세요' )"
   ]
  },
  {
   "cell_type": "code",
   "execution_count": 114,
   "metadata": {},
   "outputs": [
    {
     "data": {
      "text/plain": [
       "' 케이크 그리고  와인을 가지고 집에가세요'"
      ]
     },
     "execution_count": 114,
     "metadata": {},
     "output_type": "execute_result"
    }
   ],
   "source": [
    "# 제거\n",
    "p.sub( '', 'white 케이크 그리고 red 와인을 가지고 집에가세요' )"
   ]
  },
  {
   "cell_type": "code",
   "execution_count": 117,
   "metadata": {},
   "outputs": [
    {
     "data": {
      "text/plain": [
       "('\\nBTS (Korean: 방탄소년단;', 3981)"
      ]
     },
     "execution_count": 117,
     "metadata": {},
     "output_type": "execute_result"
    }
   ],
   "source": [
    "test_txt[:20], len(test_txt)"
   ]
  },
  {
   "cell_type": "code",
   "execution_count": 137,
   "metadata": {
    "scrolled": true
   },
   "outputs": [
    {
     "data": {
      "text/plain": [
       "'BTS Korean  RR Bangtan Sonyeondan also known as the Bangtan Boys is a sevenmember South Korean boy b'"
      ]
     },
     "execution_count": 137,
     "metadata": {},
     "output_type": "execute_result"
    }
   ],
   "source": [
    "# 한글\n",
    "#han = re.compile( '[ㄱ-힣\\n:;(),.0-9-]+' )\n",
    "# 문자 클레스내에 특수문자 표시 앞에 \\를 추가해도되고, 빼도 된다\n",
    "han = re.compile( '[ㄱ-힣\\n\\:\\;\\(\\)\\,\\.0-9\\-\\']+' )\n",
    "# ascII를 이용하여 특수문자의 값의 범위를 활용하여 제거 가능\n",
    "# 비 영어권은 유니코드 혹은 완성형코드의 숫치값 범위를 활용하여\n",
    "# 제거한다\n",
    "#han = re.compile( '[ㄱ-힣\\n0x41-0x4F]+' )\n",
    "han.sub('', test_txt)[:100]"
   ]
  },
  {
   "cell_type": "code",
   "execution_count": 20,
   "metadata": {},
   "outputs": [
    {
     "data": {
      "text/plain": [
       "'\\nBTS (Korean  RR Bangtan Sonyeondan), also known as the Bangtan Boys, is a seven-member South Korean'"
      ]
     },
     "execution_count": 20,
     "metadata": {},
     "output_type": "execute_result"
    }
   ],
   "source": [
    "# 언어권 유니코드는 \\u값-\\u값\n",
    "# 16진수로 특수문자 범위표시 \\x값-\\x값\n",
    "han = re.compile( '[ㄱ-힣\\x3A-\\x3F]+' )\n",
    "han.sub('', test_txt)[:100]"
   ]
  },
  {
   "cell_type": "markdown",
   "metadata": {},
   "source": [
    "### 그룹핑\n",
    "\n",
    "-   그룹을 만들어주는 메타 문자 ()"
   ]
  },
  {
   "cell_type": "code",
   "execution_count": 8,
   "metadata": {},
   "outputs": [],
   "source": [
    "p = re.compile( '(123)+' )"
   ]
  },
  {
   "cell_type": "code",
   "execution_count": 9,
   "metadata": {},
   "outputs": [
    {
     "data": {
      "text/plain": [
       "<_sre.SRE_Match object; span=(0, 12), match='123123123123'>"
      ]
     },
     "execution_count": 9,
     "metadata": {},
     "output_type": "execute_result"
    }
   ],
   "source": [
    "m = p.search( '123123123123 123123 check?' )\n",
    "m"
   ]
  },
  {
   "cell_type": "code",
   "execution_count": 10,
   "metadata": {},
   "outputs": [
    {
     "data": {
      "text/plain": [
       "('123123123123', ('123',), '123123123123', '123')"
      ]
     },
     "execution_count": 10,
     "metadata": {},
     "output_type": "execute_result"
    }
   ],
   "source": [
    "m.group(), m.groups(), m.group(0), m.group(1)"
   ]
  },
  {
   "cell_type": "code",
   "execution_count": 145,
   "metadata": {},
   "outputs": [
    {
     "ename": "IndexError",
     "evalue": "no such group",
     "output_type": "error",
     "traceback": [
      "\u001b[1;31m---------------------------------------------------------------------------\u001b[0m",
      "\u001b[1;31mIndexError\u001b[0m                                Traceback (most recent call last)",
      "\u001b[1;32m<ipython-input-145-88acecccb001>\u001b[0m in \u001b[0;36m<module>\u001b[1;34m\u001b[0m\n\u001b[1;32m----> 1\u001b[1;33m \u001b[0mm\u001b[0m\u001b[1;33m.\u001b[0m\u001b[0mgroup\u001b[0m\u001b[1;33m(\u001b[0m\u001b[1;36m2\u001b[0m\u001b[1;33m)\u001b[0m\u001b[1;33m\u001b[0m\u001b[1;33m\u001b[0m\u001b[0m\n\u001b[0m",
      "\u001b[1;31mIndexError\u001b[0m: no such group"
     ]
    }
   ],
   "source": [
    "m.group(2)"
   ]
  },
  {
   "cell_type": "markdown",
   "metadata": {},
   "source": [
    "- m.group(0)\n",
    "    - 매칭된 모든 문자열 \n",
    "- m.group(1)\n",
    "    - 첫번째 그룹의 문자열\n",
    "- m.group(2)\n",
    "    - 두번째 그룹의 문자열\n",
    "- m.group(n)\n",
    "    - n번째 그룹의 문자열"
   ]
  },
  {
   "cell_type": "code",
   "execution_count": 149,
   "metadata": {},
   "outputs": [],
   "source": [
    "# 이표현대로 문자열을 표현한다면?\n",
    "p = re.compile(r'\\w+\\s+\\d+[-]\\d+[-]\\d+')"
   ]
  },
  {
   "cell_type": "code",
   "execution_count": 152,
   "metadata": {},
   "outputs": [],
   "source": [
    "m = p.search( '부산대역 010-1234-5678 abcd' )"
   ]
  },
  {
   "cell_type": "code",
   "execution_count": 153,
   "metadata": {},
   "outputs": [
    {
     "data": {
      "text/plain": [
       "'부산대역 010-1234-5678'"
      ]
     },
     "execution_count": 153,
     "metadata": {},
     "output_type": "execute_result"
    }
   ],
   "source": [
    "m.group()"
   ]
  },
  {
   "cell_type": "code",
   "execution_count": 154,
   "metadata": {},
   "outputs": [
    {
     "data": {
      "text/plain": [
       "()"
      ]
     },
     "execution_count": 154,
     "metadata": {},
     "output_type": "execute_result"
    }
   ],
   "source": [
    "m.groups()\n",
    "# 그룹이 없다 -> 정규식에 그룹화 표현이 없다"
   ]
  },
  {
   "cell_type": "code",
   "execution_count": 155,
   "metadata": {},
   "outputs": [
    {
     "data": {
      "text/plain": [
       "'부산대역 010-1234-5678'"
      ]
     },
     "execution_count": 155,
     "metadata": {},
     "output_type": "execute_result"
    }
   ],
   "source": [
    "m.group(0)"
   ]
  },
  {
   "cell_type": "code",
   "execution_count": 159,
   "metadata": {},
   "outputs": [
    {
     "data": {
      "text/plain": [
       "'1234'"
      ]
     },
     "execution_count": 159,
     "metadata": {},
     "output_type": "execute_result"
    }
   ],
   "source": [
    "# 전화번호중 가운데 번호 획득\n",
    "m.group().split()[1].split('-')[1]"
   ]
  },
  {
   "cell_type": "code",
   "execution_count": 160,
   "metadata": {},
   "outputs": [],
   "source": [
    "# 위의 방식은 정규식 자체가 그룹화 되지 않아서 \n",
    "# 세부 정보를 취할수가 없다 그룹화를 이용하면 \n",
    "# 상세정보를 그룹별로 취할수 가 있어서 데이터를 \n",
    "# 획득하기가 용이하다"
   ]
  },
  {
   "cell_type": "code",
   "execution_count": 171,
   "metadata": {},
   "outputs": [],
   "source": [
    "p = re.compile(r'(\\w+)\\s+(\\d+[-]\\d+[-]\\d+)')\n",
    "m = p.search( '부산대역 010-1234-5678' )"
   ]
  },
  {
   "cell_type": "code",
   "execution_count": 172,
   "metadata": {},
   "outputs": [
    {
     "data": {
      "text/plain": [
       "(('부산대역', '010-1234-5678'), '부산대역', '010-1234-5678')"
      ]
     },
     "execution_count": 172,
     "metadata": {},
     "output_type": "execute_result"
    }
   ],
   "source": [
    "m.groups(), m.group(1), m.group(2)"
   ]
  },
  {
   "cell_type": "code",
   "execution_count": 173,
   "metadata": {},
   "outputs": [
    {
     "name": "stdout",
     "output_type": "stream",
     "text": [
      "부산대역\n",
      "010-1234-5678\n"
     ]
    }
   ],
   "source": [
    "# for n in range(1,3):\n",
    "for n in range( 1, len(m.groups())+1 ):\n",
    "    print( m.group(n) )"
   ]
  },
  {
   "cell_type": "code",
   "execution_count": 174,
   "metadata": {},
   "outputs": [],
   "source": [
    "# 전화번호 상세 정보가 그룹화 되어 있지 않다\n",
    "# 그룹안에 그룹화 처리를 하면 자동 분류가 된다\n",
    "\n",
    "p = re.compile(r'(\\w+)\\s+((\\d+)[-](\\d+)[-](\\d+))')\n",
    "m = p.search( '부산대역 010-1234-5678' )"
   ]
  },
  {
   "cell_type": "code",
   "execution_count": 175,
   "metadata": {},
   "outputs": [
    {
     "data": {
      "text/plain": [
       "('부산대역', '010-1234-5678', '010', '1234', '5678')"
      ]
     },
     "execution_count": 175,
     "metadata": {},
     "output_type": "execute_result"
    }
   ],
   "source": [
    "m.groups()"
   ]
  },
  {
   "cell_type": "code",
   "execution_count": 176,
   "metadata": {},
   "outputs": [
    {
     "name": "stdout",
     "output_type": "stream",
     "text": [
      "부산대역\n",
      "010-1234-5678\n",
      "010\n",
      "1234\n",
      "5678\n"
     ]
    }
   ],
   "source": [
    "for n in range( 1, len(m.groups())+1 ):\n",
    "    print( m.group(n) )"
   ]
  },
  {
   "cell_type": "markdown",
   "metadata": {},
   "source": [
    "#### 그룹핑된 문자열의 재참조\n",
    "\n",
    "- 그룹핑 : 첫번째그룹, 두번째 그룹, 세번째 그룹...\n",
    "- \\1, \\2, \\3,.."
   ]
  },
  {
   "cell_type": "code",
   "execution_count": 189,
   "metadata": {},
   "outputs": [],
   "source": [
    "# 자기 참조는 정규식 형태도 일치하면서, 값도 일치경우\n",
    "p = re.compile( r'(\\b\\w+)\\s+\\1' )\n",
    "m = p.search( 'python numpy pandas pandas tensorflow' )"
   ]
  },
  {
   "cell_type": "code",
   "execution_count": 190,
   "metadata": {},
   "outputs": [
    {
     "data": {
      "text/plain": [
       "'pandas pandas'"
      ]
     },
     "execution_count": 190,
     "metadata": {},
     "output_type": "execute_result"
    }
   ],
   "source": [
    "m.group()"
   ]
  },
  {
   "cell_type": "code",
   "execution_count": 191,
   "metadata": {},
   "outputs": [
    {
     "data": {
      "text/plain": [
       "('pandas',)"
      ]
     },
     "execution_count": 191,
     "metadata": {},
     "output_type": "execute_result"
    }
   ],
   "source": [
    "m.groups()"
   ]
  },
  {
   "cell_type": "markdown",
   "metadata": {},
   "source": [
    "#### 그룹핑된 문자열 네이밍 처리"
   ]
  },
  {
   "cell_type": "code",
   "execution_count": 192,
   "metadata": {},
   "outputs": [],
   "source": [
    "# (?P<이름>정규식)\n",
    "p = re.compile(r'(?P<NAME>\\w+)\\s+((\\d+)[-](\\d+)[-](\\d+))')\n",
    "m = p.search( '부산대역 010-1234-5678' )"
   ]
  },
  {
   "cell_type": "code",
   "execution_count": 193,
   "metadata": {},
   "outputs": [
    {
     "data": {
      "text/plain": [
       "('부산대역', '010-1234-5678', '010', '1234', '5678')"
      ]
     },
     "execution_count": 193,
     "metadata": {},
     "output_type": "execute_result"
    }
   ],
   "source": [
    "m.groups()"
   ]
  },
  {
   "cell_type": "code",
   "execution_count": 195,
   "metadata": {},
   "outputs": [
    {
     "data": {
      "text/plain": [
       "('부산대역', '부산대역')"
      ]
     },
     "execution_count": 195,
     "metadata": {},
     "output_type": "execute_result"
    }
   ],
   "source": [
    "# 이름을 부여하면, 순서를 몰라도 된다. \n",
    "m.group(1), m.group('NAME')"
   ]
  },
  {
   "cell_type": "markdown",
   "metadata": {},
   "source": [
    "#### 자기 참조를 했는데 이름이 있다"
   ]
  },
  {
   "cell_type": "code",
   "execution_count": 196,
   "metadata": {},
   "outputs": [],
   "source": [
    "# 자기참조 그룹의 이름으로 자기참조를 수행하는 방법 \n",
    "# (?P=이름)\n",
    "p = re.compile( r'(?P<BS>\\b\\w+)\\s+(?P=BS)' )\n",
    "m = p.search( 'python numpy pandas pandas tensorflow' )"
   ]
  },
  {
   "cell_type": "code",
   "execution_count": 197,
   "metadata": {},
   "outputs": [
    {
     "data": {
      "text/plain": [
       "<_sre.SRE_Match object; span=(13, 26), match='pandas pandas'>"
      ]
     },
     "execution_count": 197,
     "metadata": {},
     "output_type": "execute_result"
    }
   ],
   "source": [
    "m"
   ]
  },
  {
   "cell_type": "code",
   "execution_count": null,
   "metadata": {},
   "outputs": [],
   "source": []
  }
 ],
 "metadata": {
  "kernelspec": {
   "display_name": "Python 3",
   "language": "python",
   "name": "python3"
  },
  "language_info": {
   "codemirror_mode": {
    "name": "ipython",
    "version": 3
   },
   "file_extension": ".py",
   "mimetype": "text/x-python",
   "name": "python",
   "nbconvert_exporter": "python",
   "pygments_lexer": "ipython3",
   "version": "3.6.9"
  }
 },
 "nbformat": 4,
 "nbformat_minor": 2
}
